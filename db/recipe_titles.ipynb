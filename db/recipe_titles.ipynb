{
 "cells": [
  {
   "cell_type": "code",
   "execution_count": 1,
   "id": "726a4d9f",
   "metadata": {},
   "outputs": [],
   "source": [
    "import requests\n",
    "from bs4 import BeautifulSoup\n",
    "\n",
    "# Define a function to generate Food.com URLs from IDs and names\n",
    "def generate_food_com_url(recipe_id, recipe_name):\n",
    "    return f'https://www.food.com/recipe/{recipe_name.replace(\" \", \"-\")}-{recipe_id}'"
   ]
  },
  {
   "cell_type": "code",
   "execution_count": 2,
   "id": "107bf750",
   "metadata": {},
   "outputs": [],
   "source": [
    "# Sample data (you can replace this with your actual data)\n",
    "recipe_data = [\n",
    "    {\"id\": 55309, \"name\": \"caprese salad tomatoes\"},\n",
    "    {\"id\": 248495, \"name\": \"make your own boursin cheese paula deen\"},\n",
    "    {\"id\": 186029, \"name\": \"the best creole cajun seasoning mix\"},\n",
    "]"
   ]
  },
  {
   "cell_type": "code",
   "execution_count": 3,
   "id": "d5b5f17c",
   "metadata": {},
   "outputs": [
    {
     "name": "stdout",
     "output_type": "stream",
     "text": [
      "Recipe Name: caprese salad tomatoes\n",
      "Food.com URL: https://www.food.com/recipe/caprese-salad-tomatoes-55309\n",
      "\n",
      "\n",
      "Recipe Name: make your own boursin cheese paula deen\n",
      "Food.com URL: https://www.food.com/recipe/make-your-own-boursin-cheese-paula-deen-248495\n",
      "\n",
      "\n",
      "Recipe Name: the best creole cajun seasoning mix\n",
      "Food.com URL: https://www.food.com/recipe/the-best-creole-cajun-seasoning-mix-186029\n",
      "\n",
      "\n"
     ]
    }
   ],
   "source": [
    "# Loop through the recipe data to generate URLs and print them\n",
    "for recipe in recipe_data:\n",
    "    recipe_id = recipe[\"id\"]\n",
    "    recipe_name = recipe[\"name\"]\n",
    "    food_com_url = generate_food_com_url(recipe_id, recipe_name)\n",
    "    print(f\"Recipe Name: {recipe_name}\")\n",
    "    print(f\"Food.com URL: {food_com_url}\")\n",
    "    print(\"\\n\")\n",
    "\n",
    "# You can also save the URLs in a list or a file for further use.\n"
   ]
  },
  {
   "cell_type": "code",
   "execution_count": 4,
   "id": "29062260",
   "metadata": {},
   "outputs": [],
   "source": [
    "# Define a function to extract the recipe title from a Food.com URL\n",
    "def extract_recipe_title(url):\n",
    "    response = requests.get(url)\n",
    "    if response.status_code == 200:\n",
    "        soup = BeautifulSoup(response.content, 'html.parser')\n",
    "        title_element = soup.find('h1')\n",
    "        if title_element:\n",
    "            return title_element.text.strip()\n",
    "    return None\n"
   ]
  },
  {
   "cell_type": "code",
   "execution_count": 5,
   "id": "feaf5075",
   "metadata": {},
   "outputs": [
    {
     "name": "stdout",
     "output_type": "stream",
     "text": [
      "https://www.food.com/recipe/caprese-salad-tomatoes-55309\n",
      "Recipe Name: caprese salad tomatoes\n",
      "Proper Title: Caprese Salad Tomatoes (Italian Marinated Tomatoes)\n",
      "\n",
      "\n",
      "https://www.food.com/recipe/make-your-own-boursin-cheese-paula-deen-248495\n",
      "Recipe Name: make your own boursin cheese paula deen\n",
      "Proper Title: Make Your Own Boursin Cheese - Paula Deen\n",
      "\n",
      "\n",
      "https://www.food.com/recipe/the-best-creole-cajun-seasoning-mix-186029\n",
      "Recipe Name: the best creole cajun seasoning mix\n",
      "Proper Title: The Best Creole/Cajun Seasoning Mix\n",
      "\n",
      "\n"
     ]
    }
   ],
   "source": [
    "# Loop through the recipe data to generate URLs, fetch titles, and print them\n",
    "for recipe in recipe_data:\n",
    "    recipe_id = recipe[\"id\"]\n",
    "    recipe_name = recipe[\"name\"]\n",
    "    food_com_url = generate_food_com_url(recipe_id, recipe_name)\n",
    "    print(food_com_url)\n",
    "    recipe_title = extract_recipe_title(food_com_url)\n",
    "\n",
    "    if recipe_title:\n",
    "        print(f\"Recipe Name: {recipe_name}\")\n",
    "        print(f\"Proper Title: {recipe_title}\")\n",
    "        print(\"\\n\")\n",
    "    else:\n",
    "        print(f\"Unable to fetch proper title for {recipe_name}\\n\")\n",
    "\n",
    "# You can also save the titles in a list or a file for further use.\n",
    "\n"
   ]
  },
  {
   "cell_type": "code",
   "execution_count": null,
   "id": "9b13143b",
   "metadata": {},
   "outputs": [],
   "source": [
    "import sqlite3\n",
    "import requests\n",
    "from bs4 import BeautifulSoup\n",
    "from multiprocessing import Pool\n",
    "import pickle\n",
    "import time\n",
    "\n",
    "# Define a function to generate Food.com URLs from IDs and names\n",
    "def generate_food_com_url(recipe_id, recipe_name):\n",
    "    return f'https://www.food.com/recipe/{recipe_name.replace(\" \", \"-\")}-{recipe_id}'\n",
    "\n",
    "# Define a function to extract the recipe title from a Food.com URL\n",
    "def extract_recipe_title(url):\n",
    "    response = requests.get(url)\n",
    "    if response.status_code == 200:\n",
    "        soup = BeautifulSoup(response.content, 'html.parser')\n",
    "        title_element = soup.find('h1')\n",
    "        if title_element:\n",
    "            return title_element.text.strip()\n",
    "    return None\n",
    "\n",
    "# Function to process a single recipe and return (recipe_id, recipe_title)\n",
    "def process_recipe(recipe):\n",
    "    recipe_id, recipe_name = recipe\n",
    "    food_com_url = generate_food_com_url(recipe_id, recipe_name)\n",
    "    recipe_title = extract_recipe_title(food_com_url)\n",
    "    return recipe_id, recipe_title\n",
    "\n",
    "# Create a connection to the SQLite database\n",
    "db_connection = sqlite3.connect('food_dotcom.db')\n",
    "\n",
    "# Create a cursor to execute SQL queries\n",
    "cursor = db_connection.cursor()\n",
    "\n",
    "# Query all entries from the \"recipes\" table\n",
    "cursor.execute('SELECT id, name FROM recipes')\n",
    "recipe_data = cursor.fetchall()\n",
    "\n",
    "# Close the database connection\n",
    "db_connection.close()\n",
    "\n",
    "# Set the number of parallel processes to use\n",
    "num_processes = 4  # Adjust this based on your system's capabilities\n",
    "\n",
    "# Define the chunk size\n",
    "chunk_size = 3  # Adjust this based on your requirements\n",
    "\n",
    "# Split the data into chunks\n",
    "chunks = [recipe_data[i:i + chunk_size] for i in range(0, len(recipe_data), chunk_size)]\n",
    "\n",
    "# Create a list to store the results\n",
    "results = []\n",
    "\n",
    "# Initialize variables for progress tracking and timing\n",
    "total_recipes = len(recipe_data)\n",
    "recipes_processed = 0\n",
    "start_time = time.time()\n",
    "\n",
    "# Create a multiprocessing Pool\n",
    "with Pool(num_processes) as pool:\n",
    "    for i, chunk in enumerate(chunks, 1):\n",
    "        chunk_results = pool.map(process_recipe, chunk)\n",
    "        results.extend(chunk_results)\n",
    "        recipes_processed += len(chunk)\n",
    "        \n",
    "        # Calculate elapsed time for the current chunk\n",
    "        chunk_elapsed_time = time.time() - start_time\n",
    "\n",
    "        # Display progress and timing information\n",
    "        print(f'Chunk {i}/{len(chunks)} completed.')\n",
    "        print(f'Recipes Processed: {recipes_processed}/{total_recipes}')\n",
    "        print(f'Chunk Elapsed Time: {chunk_elapsed_time:.2f} seconds\\n')\n",
    "\n",
    "# Store the results (recipe_id, recipe_title) in a pickle file\n",
    "with open('recipe_titles.pickle', 'wb') as pickle_file:\n",
    "    pickle.dump(results, pickle_file)\n",
    "\n",
    "# Calculate and display the total execution time\n",
    "end_time = time.time()\n",
    "total_execution_time = end_time - start_time\n",
    "print(f'Total Execution Time: {total_execution_time:.2f} seconds')\n"
   ]
  },
  {
   "cell_type": "code",
   "execution_count": null,
   "id": "7d040c96",
   "metadata": {},
   "outputs": [],
   "source": []
  }
 ],
 "metadata": {
  "kernelspec": {
   "display_name": "Python 3 (ipykernel)",
   "language": "python",
   "name": "python3"
  },
  "language_info": {
   "codemirror_mode": {
    "name": "ipython",
    "version": 3
   },
   "file_extension": ".py",
   "mimetype": "text/x-python",
   "name": "python",
   "nbconvert_exporter": "python",
   "pygments_lexer": "ipython3",
   "version": "3.11.6"
  }
 },
 "nbformat": 4,
 "nbformat_minor": 5
}
